{
 "cells": [
  {
   "cell_type": "code",
   "execution_count": null,
   "metadata": {},
   "outputs": [],
   "source": [
    "import uuid\n",
    "# Generate a UUID from a host ID, sequence number, and the current time. \n",
    "# If node is not given, getnode() is used to obtain the hardware address. If clock_seq is given,\n",
    "# it is used as the sequence number; otherwise a random 14-bit sequence number is chosen.\n",
    "import random\n",
    "\n",
    "class Node:\n",
    "\n",
    "    def __init__(self, state, action, action_space, reward, terminal):\n",
    "        self.identifier = str(uuid.uuid1())\n",
    "        self.parent_identifier = None\n",
    "        self.children_identifiers = []\n",
    "        self.untried_actions = list(range(action_space))\n",
    "        self.state = state\n",
    "        self.total_simulation_reward = 0\n",
    "        self.num_visits = 0\n",
    "        self.performance = 0\n",
    "        self.action = action\n",
    "        self.reward = reward\n",
    "        self.terminal = terminal\n",
    "\n",
    "    def __str__(self):\n",
    "        return \"{}: (action={}, visits={}, reward={:d}, ratio={:0.4f})\".format(\n",
    "                                                  self.state,\n",
    "                                                  self.action,\n",
    "                                                  self.num_visits,\n",
    "                                                  int(self.total_simulation_reward),\n",
    "                                                  self.performance)\n",
    "\n",
    "    def untried_action(self):\n",
    "        action = random.choice(self.untried_actions)\n",
    "        self.untried_actions.remove(action)\n",
    "        return action"
   ]
  }
 ],
 "metadata": {
  "kernelspec": {
   "display_name": "Python 3",
   "language": "python",
   "name": "python3"
  },
  "language_info": {
   "codemirror_mode": {
    "name": "ipython",
    "version": 3
   },
   "file_extension": ".py",
   "mimetype": "text/x-python",
   "name": "python",
   "nbconvert_exporter": "python",
   "pygments_lexer": "ipython3",
   "version": "3.8.5"
  }
 },
 "nbformat": 4,
 "nbformat_minor": 4
}
